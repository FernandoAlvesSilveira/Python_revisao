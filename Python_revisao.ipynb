{
 "cells": [
  {
   "cell_type": "markdown",
   "id": "aeca77f6",
   "metadata": {},
   "source": [
    "## Python básico\n",
    "### No python o escopo é definido pela identação, então organização é tudo. "
   ]
  },
  {
   "cell_type": "markdown",
   "id": "3d858e0d",
   "metadata": {},
   "source": [
    "### 1. Operações numéricas\n",
    "#### Operações numéricas bem similar ao R.  Números são inteiros por padrão, exceto na divisão que pode retornar um ponto flutuante (float). Exponenciação é expressa por ** (x**y, x elevado à potência y). Valores lógicos são primitivos. Igualdade é expressa por == (somente um = expressa atribuição)."
   ]
  },
  {
   "cell_type": "code",
   "execution_count": 2,
   "id": "6ecd232a",
   "metadata": {},
   "outputs": [
    {
     "data": {
      "text/plain": [
       "3"
      ]
     },
     "execution_count": 2,
     "metadata": {},
     "output_type": "execute_result"
    }
   ],
   "source": [
    "1 + 2"
   ]
  },
  {
   "cell_type": "code",
   "execution_count": 3,
   "id": "5fd97c6d",
   "metadata": {},
   "outputs": [
    {
     "data": {
      "text/plain": [
       "1"
      ]
     },
     "execution_count": 3,
     "metadata": {},
     "output_type": "execute_result"
    }
   ],
   "source": [
    "5 // 3"
   ]
  },
  {
   "cell_type": "code",
   "execution_count": 4,
   "id": "460355c5",
   "metadata": {},
   "outputs": [
    {
     "data": {
      "text/plain": [
       "2.0"
      ]
     },
     "execution_count": 4,
     "metadata": {},
     "output_type": "execute_result"
    }
   ],
   "source": [
    "5.0 // 2.3"
   ]
  },
  {
   "cell_type": "code",
   "execution_count": 5,
   "id": "bdeb2479",
   "metadata": {},
   "outputs": [
    {
     "data": {
      "text/plain": [
       "1"
      ]
     },
     "execution_count": 5,
     "metadata": {},
     "output_type": "execute_result"
    }
   ],
   "source": [
    "7 % 3"
   ]
  },
  {
   "cell_type": "code",
   "execution_count": 6,
   "id": "03332f7c",
   "metadata": {},
   "outputs": [
    {
     "data": {
      "text/plain": [
       "16"
      ]
     },
     "execution_count": 6,
     "metadata": {},
     "output_type": "execute_result"
    }
   ],
   "source": [
    "2**4"
   ]
  },
  {
   "cell_type": "code",
   "execution_count": 7,
   "id": "cde11fe8",
   "metadata": {},
   "outputs": [
    {
     "data": {
      "text/plain": [
       "True"
      ]
     },
     "execution_count": 7,
     "metadata": {},
     "output_type": "execute_result"
    }
   ],
   "source": [
    "2 != 3"
   ]
  },
  {
   "cell_type": "code",
   "execution_count": 8,
   "id": "834af64d",
   "metadata": {},
   "outputs": [
    {
     "data": {
      "text/plain": [
       "False"
      ]
     },
     "execution_count": 8,
     "metadata": {},
     "output_type": "execute_result"
    }
   ],
   "source": [
    "1 > 2"
   ]
  },
  {
   "cell_type": "markdown",
   "id": "1722cb6d",
   "metadata": {},
   "source": [
    "### 2. Texto, tipos de variáveis e coleções de dados\n",
    "\n",
    "#### Python possui uma função print, similar ao R que exibe/retorna uma string. No python toda string é uma lista e pode ser iterada. Você pode concatenar uma string simplismente utilizando um sinal de \"+\". \n",
    "#### Importante: Lista são sequências mutáveis que você pode percorrer utilizando [ ]. Tuplas são como l istas, mas imutáveis. Dicionários armazenam mapeamentos. Sets são utilizados para armazenar multíplos itens em uma única variável (ainda não entendi sua utilidade). "
   ]
  },
  {
   "cell_type": "code",
   "execution_count": 9,
   "id": "3c2d5ef9",
   "metadata": {},
   "outputs": [
    {
     "name": "stdout",
     "output_type": "stream",
     "text": [
      "Qualquer texto\n"
     ]
    }
   ],
   "source": [
    "# Função print no python\n",
    "print(\"Qualquer texto\")"
   ]
  },
  {
   "cell_type": "code",
   "execution_count": 10,
   "id": "ebee1fc4",
   "metadata": {},
   "outputs": [
    {
     "name": "stdout",
     "output_type": "stream",
     "text": [
      "Digite alguma coisa aqui: algum outro texto\n"
     ]
    }
   ],
   "source": [
    "#Python tem uma função para entrada de dados, qualquer dado que entra por esta função é do tipo string\n",
    "entrada_de_dado = input(\"Digite alguma coisa aqui: \")"
   ]
  },
  {
   "cell_type": "code",
   "execution_count": 11,
   "id": "28d1dff5",
   "metadata": {},
   "outputs": [
    {
     "name": "stdout",
     "output_type": "stream",
     "text": [
      "algum outro texto\n"
     ]
    }
   ],
   "source": [
    "print(entrada_de_dado)"
   ]
  },
  {
   "cell_type": "code",
   "execution_count": 15,
   "id": "fe74157f",
   "metadata": {},
   "outputs": [
    {
     "data": {
      "text/plain": [
       "('I', 'o', 'g')"
      ]
     },
     "execution_count": 15,
     "metadata": {},
     "output_type": "execute_result"
    }
   ],
   "source": [
    "#é possível percorer uma string como se fosse uma lista\n",
    "\"Isso é uma string\"[0], \"Isso é uma string\"[3], \"Isso é uma string\"[-1]"
   ]
  },
  {
   "cell_type": "code",
   "execution_count": 16,
   "id": "5965dda1",
   "metadata": {},
   "outputs": [
    {
     "data": {
      "text/plain": [
       "'é possível adicionar itens em uma string sem pacotes adicionais'"
      ]
     },
     "execution_count": 16,
     "metadata": {},
     "output_type": "execute_result"
    }
   ],
   "source": [
    "\"é {0} adicionar itens em uma string sem {1} adicionais\".format(\"possível\", \"pacotes\")"
   ]
  },
  {
   "cell_type": "code",
   "execution_count": 21,
   "id": "454b20a2",
   "metadata": {},
   "outputs": [
    {
     "data": {
      "text/plain": [
       "[1, 2, 3, 4]"
      ]
     },
     "execution_count": 21,
     "metadata": {},
     "output_type": "execute_result"
    }
   ],
   "source": [
    "uma_lista = [1, 2, 3, 4]\n",
    "uma_lista"
   ]
  },
  {
   "cell_type": "code",
   "execution_count": 22,
   "id": "ecf062b1",
   "metadata": {},
   "outputs": [
    {
     "data": {
      "text/plain": [
       "[1, 2, 3, 4, 5]"
      ]
     },
     "execution_count": 22,
     "metadata": {},
     "output_type": "execute_result"
    }
   ],
   "source": [
    "# Podemos adicionar, retirar ou alterar elementos desta lista (na dúvida utilize o comando dir() para saber as funções possíveis para o objeto em questão)\n",
    "uma_lista.append(5)\n",
    "uma_lista"
   ]
  },
  {
   "cell_type": "code",
   "execution_count": 23,
   "id": "3ce307c3",
   "metadata": {},
   "outputs": [
    {
     "data": {
      "text/plain": [
       "[1, 2, 3, 4]"
      ]
     },
     "execution_count": 23,
     "metadata": {},
     "output_type": "execute_result"
    }
   ],
   "source": [
    "# pop retira o último elementos\n",
    "uma_lista.pop()\n",
    "uma_lista"
   ]
  },
  {
   "cell_type": "code",
   "execution_count": 24,
   "id": "c24bf7aa",
   "metadata": {},
   "outputs": [
    {
     "data": {
      "text/plain": [
       "4"
      ]
     },
     "execution_count": 24,
     "metadata": {},
     "output_type": "execute_result"
    }
   ],
   "source": [
    "# a função len é igual a função lenght do R e retorna o tamanho do objeto lista\n",
    "len(uma_lista)"
   ]
  },
  {
   "cell_type": "code",
   "execution_count": 26,
   "id": "cc639fc9",
   "metadata": {},
   "outputs": [
    {
     "data": {
      "text/plain": [
       "(1, 2, 3)"
      ]
     },
     "execution_count": 26,
     "metadata": {},
     "output_type": "execute_result"
    }
   ],
   "source": [
    "# Tuplas são como l istas, mas imutáveis.\n",
    "uma_tupla = (1, 2, 3)\n",
    "# Você pode realizar com tuplas a maior parte das operações que faz com listas\n",
    "uma_tupla"
   ]
  },
  {
   "cell_type": "code",
   "execution_count": 28,
   "id": "ef7722b0",
   "metadata": {},
   "outputs": [
    {
     "data": {
      "text/plain": [
       "{'nome': 'Fernando', 'idade': 32}"
      ]
     },
     "execution_count": 28,
     "metadata": {},
     "output_type": "execute_result"
    }
   ],
   "source": [
    "# Dicionários armazenam mapeamentos\n",
    "dicionario_vazio = {}\n",
    "dicionario_cheio = {\"nome\": \"Fernando\", \"idade\": 32}\n",
    "dicionario_cheio"
   ]
  },
  {
   "cell_type": "code",
   "execution_count": 29,
   "id": "fc6c3670",
   "metadata": {},
   "outputs": [
    {
     "data": {
      "text/plain": [
       "'Fernando'"
      ]
     },
     "execution_count": 29,
     "metadata": {},
     "output_type": "execute_result"
    }
   ],
   "source": [
    "# Acesse valores com []\n",
    "dicionario_cheio[\"nome\"]"
   ]
  },
  {
   "cell_type": "code",
   "execution_count": 30,
   "id": "c8dcbf74",
   "metadata": {},
   "outputs": [
    {
     "data": {
      "text/plain": [
       "['nome', 'idade']"
      ]
     },
     "execution_count": 30,
     "metadata": {},
     "output_type": "execute_result"
    }
   ],
   "source": [
    "#Acesse todas as chaves como um iterável com \"keys()\".É necessário encapsular a chamada com um list() para transformá-las em uma lista.\n",
    "list(dicionario_cheio.keys())"
   ]
  },
  {
   "cell_type": "code",
   "execution_count": 31,
   "id": "e441fa9a",
   "metadata": {},
   "outputs": [],
   "source": [
    "# Sets são conjunto de dados \n",
    "set_vazio = set()\n",
    "set_cheio = {1,2,3,4,5,6}"
   ]
  },
  {
   "cell_type": "code",
   "execution_count": 32,
   "id": "d7b1c890",
   "metadata": {},
   "outputs": [
    {
     "data": {
      "text/plain": [
       "{1, 2, 3, 4, 5, 6, 7}"
      ]
     },
     "execution_count": 32,
     "metadata": {},
     "output_type": "execute_result"
    }
   ],
   "source": [
    "# Inclua mais um item no set\n",
    "set_cheio.add(7)\n",
    "set_cheio"
   ]
  },
  {
   "cell_type": "code",
   "execution_count": 35,
   "id": "712f149e",
   "metadata": {},
   "outputs": [
    {
     "data": {
      "text/plain": [
       "{5, 6}"
      ]
     },
     "execution_count": 35,
     "metadata": {},
     "output_type": "execute_result"
    }
   ],
   "source": [
    "# Faça interseção de conjuntos com &\n",
    "outro_set_cheio = {5,6}\n",
    "set_cheio & outro_set_cheio"
   ]
  },
  {
   "cell_type": "code",
   "execution_count": 36,
   "id": "cd4dd0b4",
   "metadata": {},
   "outputs": [
    {
     "data": {
      "text/plain": [
       "{1, 2, 3, 4, 5, 6, 7, 8, 9}"
      ]
     },
     "execution_count": 36,
     "metadata": {},
     "output_type": "execute_result"
    }
   ],
   "source": [
    "# Faça união de conjuntos com |\n",
    "set_diferente = {8,9}\n",
    "set_cheio | set_diferente"
   ]
  },
  {
   "cell_type": "code",
   "execution_count": 37,
   "id": "a40acb47",
   "metadata": {},
   "outputs": [
    {
     "data": {
      "text/plain": [
       "{1, 2, 3, 4, 7}"
      ]
     },
     "execution_count": 37,
     "metadata": {},
     "output_type": "execute_result"
    }
   ],
   "source": [
    "# Faça a diferença entre conjuntos com -\n",
    "set_cheio - outro_set_cheio"
   ]
  },
  {
   "cell_type": "code",
   "execution_count": 38,
   "id": "80bd4f0a",
   "metadata": {},
   "outputs": [
    {
     "data": {
      "text/plain": [
       "True"
      ]
     },
     "execution_count": 38,
     "metadata": {},
     "output_type": "execute_result"
    }
   ],
   "source": [
    "# Verifique a existência em um conjunto com in\n",
    "1 in set_cheio"
   ]
  },
  {
   "cell_type": "markdown",
   "id": "a60cccbe",
   "metadata": {},
   "source": [
    "### 3. Estruturas de repetição e controle de fluxo\n",
    "#### No python as estrutuas for, if e while são bem similares ao R."
   ]
  },
  {
   "cell_type": "code",
   "execution_count": 39,
   "id": "7041526c",
   "metadata": {},
   "outputs": [
    {
     "name": "stdout",
     "output_type": "stream",
     "text": [
      "alguma_variavel é menor que 10\n"
     ]
    }
   ],
   "source": [
    "alguma_variavel = 5\n",
    "if alguma_variavel > 10:\n",
    "    print(\"alguma_variavel é maior que 10\")\n",
    "elif alguma_variavel < 10:\n",
    "    print(\"alguma_variavel é menor que 10\")\n",
    "else:\n",
    "    print(\"alguma_variavel é de fato 10\")\n"
   ]
  },
  {
   "cell_type": "code",
   "execution_count": 40,
   "id": "44b02311",
   "metadata": {},
   "outputs": [
    {
     "name": "stdout",
     "output_type": "stream",
     "text": [
      "pizza é uma refeição\n",
      "lasanha é uma refeição\n",
      "feijão é uma refeição\n"
     ]
    }
   ],
   "source": [
    "# Praticamente igual ao R\n",
    "for alimento in [\"pizza\", \"lasanha\", \"feijão\"]:\n",
    "    # Você pode usar format() para interpolar strings formatadas\n",
    "    print(\"{} é uma refeição\".format(alimento))"
   ]
  },
  {
   "cell_type": "code",
   "execution_count": 41,
   "id": "9bc6b425",
   "metadata": {},
   "outputs": [
    {
     "name": "stdout",
     "output_type": "stream",
     "text": [
      "0\n",
      "1\n",
      "2\n",
      "3\n"
     ]
    }
   ],
   "source": [
    "#Laços while executam até que a condição não seja mais válida.\n",
    "x = 0\n",
    "while x < 4:\n",
    "    print(x)\n",
    "    x += 1 # Maneira mais comum no python para for x = x + 1"
   ]
  },
  {
   "cell_type": "markdown",
   "id": "61b0b7fa",
   "metadata": {},
   "source": [
    "### 4. Funções\n",
    "#### No Pytnon as funções são delimitadas por \"def\", abreviação de definition. "
   ]
  },
  {
   "cell_type": "code",
   "execution_count": 45,
   "id": "759dd39d",
   "metadata": {},
   "outputs": [],
   "source": [
    "def calculadora_soma(x ,y):\n",
    "    z = x + y\n",
    "    return(z)"
   ]
  },
  {
   "cell_type": "code",
   "execution_count": 46,
   "id": "d899c2a0",
   "metadata": {},
   "outputs": [
    {
     "data": {
      "text/plain": [
       "11"
      ]
     },
     "execution_count": 46,
     "metadata": {},
     "output_type": "execute_result"
    }
   ],
   "source": [
    "# Chamando funções com parâmetros\n",
    "calculadora_soma(5,6)"
   ]
  },
  {
   "cell_type": "code",
   "execution_count": 47,
   "id": "43d847f0",
   "metadata": {},
   "outputs": [
    {
     "data": {
      "text/plain": [
       "(1, 2, 3)"
      ]
     },
     "execution_count": 47,
     "metadata": {},
     "output_type": "execute_result"
    }
   ],
   "source": [
    "# Você pode definir funções que pegam um número variável de argumentos posicionais\n",
    "def varios_argumentos(*args):\n",
    "    return args\n",
    "\n",
    "varios_argumentos(1,2,3)"
   ]
  },
  {
   "cell_type": "code",
   "execution_count": 48,
   "id": "9b101c61",
   "metadata": {},
   "outputs": [
    {
     "data": {
      "text/plain": [
       "{'elemento': 'alguma coisa', 'outro_elemento': 'outra coisa'}"
      ]
     },
     "execution_count": 48,
     "metadata": {},
     "output_type": "execute_result"
    }
   ],
   "source": [
    "# Você pode definir funções que pegam um número variável de argumentos nomeados\n",
    "def inumeros_argumentos(**kwargs):\n",
    "    return kwargs\n",
    "\n",
    "inumeros_argumentos(elemento=\"alguma coisa\", outro_elemento =\"outra coisa\")"
   ]
  },
  {
   "cell_type": "code",
   "execution_count": 49,
   "id": "a74ef556",
   "metadata": {},
   "outputs": [
    {
     "data": {
      "text/plain": [
       "True"
      ]
     },
     "execution_count": 49,
     "metadata": {},
     "output_type": "execute_result"
    }
   ],
   "source": [
    "# Também existem as funções anônimas ou lambda\n",
    "(lambda x: x > 2)(3) "
   ]
  },
  {
   "cell_type": "code",
   "execution_count": 60,
   "id": "1a0e7b8a",
   "metadata": {},
   "outputs": [],
   "source": [
    "# No python existe o operador \"class\" para ter uma classe (isso não tem no R)\n",
    "class Humano:\n",
    "    # Um atributo de classe. Ele é compartilhado por todas as instâncias dessa classe\n",
    "    especie = \"Homo sapiens\"\n",
    "    # Construtor básico, é chamado quando esta classe é instanciada.\n",
    "    # Note que dois sublinhados no início e no final de uma identificados\n",
    "    # significa objetos ou atributos que são usados pelo python mas vivem em\n",
    "    # um namespace controlado pelo usuário. Métodos (ou objetos ou atributos)\n",
    "    # como: __init__, __str__, __repr__, etc. são chamados métodos mágicos (ou\n",
    "    # algumas vezes chamados métodos dunder - \"double underscore\")\n",
    "    # Você não deve usar nomes assim por sua vontade.\n",
    "    def __init__(self, nome):\n",
    "        # @ Atribui o argumento ao atributo da  instância\n",
    "        self.nome = nome\n",
    "        \n",
    "    # Um método de instância. Todos os métodos tem \"self\" como primeiro argumento\n",
    "    def ola(self, msg):\n",
    "        return(\"{nome}: {mensagem}\".format(nome=self.nome, mensagem=msg))\n",
    "    \n",
    "    # Um método de classe é compartilhado por todas as instâncias\n",
    "    # Eles são chamados com a classe requisitante como primeiro argumento\n",
    "    @classmethod\n",
    "    def pega_especie(cls):\n",
    "        return cls.especie\n",
    "    \n",
    "    # Um método estático é chamado sem uma referência a classe ou instância\n",
    "    @staticmethod\n",
    "    def Indioma():\n",
    "        return \"*português*\""
   ]
  },
  {
   "cell_type": "code",
   "execution_count": 54,
   "id": "c71f8d0c",
   "metadata": {},
   "outputs": [
    {
     "name": "stdout",
     "output_type": "stream",
     "text": [
      "Fernando: Oi\n"
     ]
    }
   ],
   "source": [
    "# Instancie uma classe\n",
    "i = Humano(nome = \"Fernando\")\n",
    "print(i.ola(\"Oi\"))"
   ]
  },
  {
   "cell_type": "code",
   "execution_count": 55,
   "id": "401ee85f",
   "metadata": {},
   "outputs": [
    {
     "name": "stdout",
     "output_type": "stream",
     "text": [
      "Noélli: Olá\n"
     ]
    }
   ],
   "source": [
    "j = Humano(\"Noélli\")\n",
    "print(j.ola(\"Olá\"))"
   ]
  },
  {
   "cell_type": "code",
   "execution_count": 56,
   "id": "a3743364",
   "metadata": {},
   "outputs": [
    {
     "data": {
      "text/plain": [
       "'Homo sapiens'"
      ]
     },
     "execution_count": 56,
     "metadata": {},
     "output_type": "execute_result"
    }
   ],
   "source": [
    "# Chama nosso método de classe\n",
    "i.pega_especie()"
   ]
  },
  {
   "cell_type": "code",
   "execution_count": 61,
   "id": "4efbd5ed",
   "metadata": {},
   "outputs": [
    {
     "data": {
      "text/plain": [
       "'*português*'"
      ]
     },
     "execution_count": 61,
     "metadata": {},
     "output_type": "execute_result"
    }
   ],
   "source": [
    "# Chama o método estático\n",
    "Humano.Indioma()"
   ]
  }
 ],
 "metadata": {
  "kernelspec": {
   "display_name": "Python 3 (ipykernel)",
   "language": "python",
   "name": "python3"
  },
  "language_info": {
   "codemirror_mode": {
    "name": "ipython",
    "version": 3
   },
   "file_extension": ".py",
   "mimetype": "text/x-python",
   "name": "python",
   "nbconvert_exporter": "python",
   "pygments_lexer": "ipython3",
   "version": "3.9.13"
  }
 },
 "nbformat": 4,
 "nbformat_minor": 5
}
